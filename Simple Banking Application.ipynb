{
 "cells": [
  {
   "cell_type": "code",
   "execution_count": 27,
   "id": "2f321c93",
   "metadata": {},
   "outputs": [],
   "source": [
    "ACCOUNTS = dict()"
   ]
  },
  {
   "cell_type": "code",
   "execution_count": 28,
   "id": "c9d68fb5",
   "metadata": {},
   "outputs": [],
   "source": [
    "import random\n",
    "\n",
    "def create_new_account():\n",
    "    acc_no = str(random.randint(100000, 999999))\n",
    "    while acc_no in ACCOUNTS:\n",
    "        acc_no = str(random.randint(100000, 999999))\n",
    "    ACCOUNTS[acc_no] = 0\n",
    "    print(f\"\\n New account created with account number: {acc_no}\")\n",
    "    return acc_no"
   ]
  },
  {
   "cell_type": "code",
   "execution_count": 29,
   "id": "34a386ff",
   "metadata": {},
   "outputs": [],
   "source": [
    "def deposit(acc_no, amount):\n",
    "    if acc_no in ACCOUNTS:\n",
    "        ACCOUNTS[acc_no] += amount\n",
    "        print(f\"\\n The balance amount for the Account {acc_no} is {ACCOUNTS[acc_no]}\")\n",
    "    else:\n",
    "        print(\"\\n There is no Account in this bank with the given Account number. \\n Please enter the correct Account number\")"
   ]
  },
  {
   "cell_type": "code",
   "execution_count": 30,
   "id": "d49fe484",
   "metadata": {},
   "outputs": [],
   "source": [
    "def withdraw(acc_no, amount):\n",
    "    if acc_no in ACCOUNTS:\n",
    "        if amount > ACCOUNTS[acc_no]:\n",
    "            print(f\"\\nYour available balance is less than {amount}. Enter amount less than {ACCOUNTS[acc_no]}\")\n",
    "        else:\n",
    "            ACCOUNTS[acc_no] -= amount\n",
    "            print(f\"\\nThe balance amount for the Account {acc_no} is {ACCOUNTS[acc_no]}\")\n",
    "    else:\n",
    "        print(\"\\n There is no Account in this bank with the given Account number. \\n Please enter the correct Account number\")"
   ]
  },
  {
   "cell_type": "code",
   "execution_count": 31,
   "id": "b4b1f263",
   "metadata": {},
   "outputs": [],
   "source": [
    "def show_balance(acc_no):\n",
    "    if acc_no in ACCOUNTS:\n",
    "        print(f\"\\n The balance amount for the Account {acc_no} is {ACCOUNTS[acc_no]}\")\n",
    "    else:\n",
    "        print(\"\\n There is no Account in this bank with the given Account number. \\n Please enter the correct Account number\")"
   ]
  },
  {
   "cell_type": "code",
   "execution_count": 32,
   "id": "be6ef0aa",
   "metadata": {},
   "outputs": [],
   "source": [
    "def show_menu():\n",
    "    print(\"\\n1. New Account Opening\")\n",
    "    print(\"2. Deposit money to account\")\n",
    "    print(\"3. Withdraw money from account\")\n",
    "    print(\"4. Show balance\")\n",
    "    print(\"5. Quit\")"
   ]
  },
  {
   "cell_type": "code",
   "execution_count": 35,
   "id": "ea63bd19",
   "metadata": {},
   "outputs": [
    {
     "name": "stdout",
     "output_type": "stream",
     "text": [
      "\n",
      "1. New Account Opening\n",
      "2. Deposit money to account\n",
      "3. Withdraw money from account\n",
      "4. Show balance\n",
      "5. Quit\n",
      "\n",
      "Enter the operation to be performed : 2\n",
      "\n",
      "Enter the account number for depositing money : 493701\n",
      "Enter amount to be deposited: 10000\n",
      "\n",
      " The balance amount for the Account 493701 is 10000\n",
      "\n",
      "1. New Account Opening\n",
      "2. Deposit money to account\n",
      "3. Withdraw money from account\n",
      "4. Show balance\n",
      "5. Quit\n",
      "\n",
      "Enter the operation to be performed : 3\n",
      "\n",
      "Enter the account number for withdrawing money : 493701\n",
      "Enter amount to be withdrawn : 100\n",
      "\n",
      " The balance amount for the Account 493701 is 9900\n",
      "\n",
      "1. New Account Opening\n",
      "2. Deposit money to account\n",
      "3. Withdraw money from account\n",
      "4. Show balance\n",
      "5. Quit\n",
      "\n",
      "Enter the operation to be performed : 3\n",
      "\n",
      "Enter the account number for withdrawing money : 493701\n",
      "Enter amount to be withdrawn : 10000\n",
      "\n",
      " Your available balance is less than 10000. Enter amount less than 9900\n",
      "\n",
      "1. New Account Opening\n",
      "2. Deposit money to account\n",
      "3. Withdraw money from account\n",
      "4. Show balance\n",
      "5. Quit\n",
      "\n",
      "Enter the operation to be performed : 5\n",
      "\n",
      "Thanks for banking with us\n"
     ]
    }
   ],
   "source": [
    "if __name__ == \"__main__\":\n",
    "    while(True):\n",
    "        show_menu()\n",
    "        \n",
    "        choice = int(input('\\nEnter the operation to be performed : '))\n",
    "        \n",
    "        if choice == 1:\n",
    "            acc_number = create_new_account()\n",
    "            \n",
    "        elif choice == 2:\n",
    "            acc_number = input('\\nEnter the account number for depositing money : ')\n",
    "            amount = int(input('Enter amount to be deposited: '))\n",
    "            \n",
    "            deposit(acc_number, amount)\n",
    "            \n",
    "        elif choice == 3:\n",
    "            acc_number = input('\\nEnter the account number for withdrawing money : ')\n",
    "            amount = int(input('Enter amount to be withdrawn : '))\n",
    "            \n",
    "            withdraw(acc_number, amount)\n",
    "            \n",
    "        elif choice == 4:\n",
    "            acc_number = input('\\nEnter the account number for showing balance amount: ')\n",
    "            \n",
    "            show_balance(acc_number)\n",
    "            \n",
    "        elif choice == 5:\n",
    "            print(\"\\nThanks for banking with us\")\n",
    "            break"
   ]
  },
  {
   "cell_type": "code",
   "execution_count": null,
   "id": "b2f76b7e",
   "metadata": {},
   "outputs": [],
   "source": []
  },
  {
   "cell_type": "code",
   "execution_count": 34,
   "id": "00c1f8ea",
   "metadata": {},
   "outputs": [
    {
     "name": "stdout",
     "output_type": "stream",
     "text": [
      "{'493701': 0}\n"
     ]
    }
   ],
   "source": [
    "print(ACCOUNTS)"
   ]
  },
  {
   "cell_type": "code",
   "execution_count": null,
   "id": "3cfb2415",
   "metadata": {},
   "outputs": [],
   "source": [
    "del ACCOUNTS"
   ]
  }
 ],
 "metadata": {
  "kernelspec": {
   "display_name": "Python 3 (ipykernel)",
   "language": "python",
   "name": "python3"
  },
  "language_info": {
   "codemirror_mode": {
    "name": "ipython",
    "version": 3
   },
   "file_extension": ".py",
   "mimetype": "text/x-python",
   "name": "python",
   "nbconvert_exporter": "python",
   "pygments_lexer": "ipython3",
   "version": "3.11.3"
  }
 },
 "nbformat": 4,
 "nbformat_minor": 5
}
